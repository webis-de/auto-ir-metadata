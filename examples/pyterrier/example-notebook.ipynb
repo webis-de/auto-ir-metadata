{
 "cells": [
  {
   "cell_type": "code",
   "execution_count": null,
   "metadata": {
    "vscode": {
     "languageId": "plaintext"
    }
   },
   "outputs": [],
   "source": [
    "import click\n",
    "import pandas as pd\n",
    "import pyterrier as pt\n",
    "from auto_ir_metadata import persist_ir_metadata"
   ]
  },
  {
   "cell_type": "code",
   "execution_count": null,
   "metadata": {
    "vscode": {
     "languageId": "plaintext"
    }
   },
   "outputs": [],
   "source": [
    "run = pd.DataFrame([\n",
    "    {\"qid\": \"q-1\", \"docno\": \"doc-01\", \"rank\": 1, \"score\": 10},\n",
    "    {\"qid\": \"q-1\", \"docno\": \"doc-02\", \"rank\": 2, \"score\": 9},\n",
    "    {\"qid\": \"q-1\", \"docno\": \"doc-03\", \"rank\": 3, \"score\": 8},\n",
    "])\n",
    "\n",
    "output_directory = \".\"\n",
    "\n",
    "pt.io.write_results(run, f\"{output_directory}/run.txt\", format=\"trec\")\n",
    "persist_ir_metadata(output_directory)"
   ]
  }
 ],
 "metadata": {
  "language_info": {
   "name": "python"
  }
 },
 "nbformat": 4,
 "nbformat_minor": 2
}
